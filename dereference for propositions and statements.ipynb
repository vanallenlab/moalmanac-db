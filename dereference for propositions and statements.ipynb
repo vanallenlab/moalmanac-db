{
 "cells": [
  {
   "cell_type": "code",
   "execution_count": 155,
   "id": "cd365676-8285-4bfc-a1fe-93fd31ff92cb",
   "metadata": {},
   "outputs": [],
   "source": [
    "import json\n",
    "\n",
    "def read_file(file):\n",
    "\twith open(file, \"r\") as fp:\n",
    "\t    data = json.load(fp)\n",
    "\treturn data\n",
    "biomarkers = read_file(\"referenced/biomarkers.json\")\n",
    "indications = read_file(\"data/indications.json\")\n",
    "therapies = read_file(\"referenced/therapies.json\")\n",
    "diseases = read_file(\"referenced/diseases.json\")\n",
    "propositions = read_file(\"referenced/propositions.json\")\n",
    "contributions = read_file(\"referenced/contributions.json\")\n",
    "strength = read_file(\"referenced/strengths.json\")\n",
    "documents = read_file(\"data/documents.json\")\n",
    "statements = read_file(\"data/statements.hc.json\")\n",
    "therapy_groups = read_file(\"referenced/therapy_groups.json\")"
   ]
  },
  {
   "cell_type": "code",
   "execution_count": 156,
   "id": "6a751d62-44dd-465a-acc2-1acc8943e634",
   "metadata": {},
   "outputs": [],
   "source": [
    "therapy_lookup = {item[\"id\"]: item for item in therapies}\n",
    "disease_lookup = {item[\"id\"]: item for item in diseases}\n",
    "biomarker_lookup = {item[\"id\"]: item for item in biomarkers}\n",
    "strength_lookup = {item[\"id\"]: item for item in strength}\n",
    "contribution_lookup = {item[\"id\"]: item for item in contributions}\n",
    "document_lookup = {doc[\"id\"]: doc for doc in documents}\n",
    "indication_lookup = {ind[\"id\"]: ind for ind in indications}\n",
    "therapy_groups_lookup = {item[\"id\"]: item for item in therapy_groups}"
   ]
  },
  {
   "cell_type": "code",
   "execution_count": 191,
   "id": "56022c16-68c6-4ece-82fa-60a1333372b7",
   "metadata": {},
   "outputs": [],
   "source": [
    "def dereference_propositions(propositions, therapy_lookup, disease_lookup, biomarker_lookup, therapy_groups_lookup):\n",
    "    dereferenced_props = []\n",
    "    for prop in propositions:\n",
    "        prop = prop.copy()\n",
    "\n",
    "        if prop[\"therapy_id\"] is not None:\n",
    "            prop[\"therapy\"] = therapy_lookup[prop[\"therapy_id\"]]\n",
    "            prop.pop(\"therapy_id\")\n",
    "        elif prop[\"therapy_group_id\"] is not None:\n",
    "            therapy_group = therapy_groups_lookup[prop[\"therapy_group_id\"]]\n",
    "            prop[\"therapy_group\"] = therapy_group\n",
    "            dereferenced_therapiesG = []\n",
    "            for TGid in therapy_group[\"therapies\"]:\n",
    "                dereferenced_therapiesG.append(therapy_lookup[TGid])\n",
    "            prop[\"therapies\"] = dereferenced_therapiesG\n",
    "            prop.pop(\"therapy_group_id\")\n",
    "        else: \n",
    "            print(\"Unexpected input in proposition\")\n",
    "\n",
    "        condition_id = prop.pop(\"conditionQualifier_id\")\n",
    "        prop[\"conditionQualifier\"] = disease_lookup[condition_id]\n",
    "\n",
    "        resolved_biomarkers = []\n",
    "        for bio in prop[\"biomarkers\"]:\n",
    "            resolved_biomarkers.append(biomarker_lookup[bio])\n",
    "        prop[\"biomarkers\"] = resolved_biomarkers\n",
    "\n",
    "        dereferenced_props.append(prop)\n",
    "    return dereferenced_props\n"
   ]
  },
  {
   "cell_type": "code",
   "execution_count": 192,
   "id": "cb939ca0-bf87-46aa-aabd-1fbce5b9594e",
   "metadata": {},
   "outputs": [],
   "source": [
    "#print(dereference_propositions(propositions, therapy_lookup, disease_lookup, biomarker_lookup, therapy_groups_lookup))\n"
   ]
  },
  {
   "cell_type": "code",
   "execution_count": 193,
   "id": "7a1f7792-d055-41c8-a827-ae8938925bfd",
   "metadata": {},
   "outputs": [],
   "source": [
    "dereferenced_props = dereference_propositions(propositions, therapy_lookup, disease_lookup, biomarker_lookup, therapy_groups_lookup)\n",
    "dereferenced_prop_lookup = {prop[\"id\"]: prop for prop in dereferenced_props}\n",
    "\n"
   ]
  },
  {
   "cell_type": "code",
   "execution_count": 194,
   "id": "10a52b00-7170-4328-a5b4-3eb202a658ce",
   "metadata": {},
   "outputs": [],
   "source": [
    "def dereference_statements(statements, proposition_lookup, strength_lookup, indication_lookup, contribution_lookup, document_lookup):\n",
    "    dereferenced_statements = []\n",
    "    for state in statements:\n",
    "        state = state.copy()\n",
    "\n",
    "        proposition_id = state.pop(\"proposition_id\")\n",
    "        state[\"proposition\"] = proposition_lookup[proposition_id]\n",
    "\n",
    "        strength_id = state.pop(\"strength_id\")\n",
    "        state[\"strength\"] = strength_lookup[strength_id]\n",
    "\n",
    "        indication_id = state.pop(\"indication_id\")\n",
    "        state[\"indication\"] = indication_lookup[indication_id]\n",
    "\n",
    "        contributions_resolved = []\n",
    "        for contrib_id in state[\"contributions\"]:\n",
    "            contributions_resolved.append(contribution_lookup[contrib_id])\n",
    "        state[\"contributions\"] = contributions_resolved\n",
    "\n",
    "        documents_resolved = []\n",
    "        for doc_id in state[\"reportedIn\"]:\n",
    "            documents_resolved.append(document_lookup[doc_id])\n",
    "        state[\"reportedIn\"] = documents_resolved\n",
    "\n",
    "        dereferenced_statements.append(state)\n",
    "    return dereferenced_statements   "
   ]
  },
  {
   "cell_type": "code",
   "execution_count": 195,
   "id": "fb0c9eaf-d5b1-4b55-8756-80435bde4291",
   "metadata": {},
   "outputs": [
    {
     "ename": "KeyError",
     "evalue": "48",
     "output_type": "error",
     "traceback": [
      "\u001b[0;31m---------------------------------------------------------------------------\u001b[0m",
      "\u001b[0;31mKeyError\u001b[0m                                  Traceback (most recent call last)",
      "Cell \u001b[0;32mIn[195], line 1\u001b[0m\n\u001b[0;32m----> 1\u001b[0m deference_statements1 \u001b[38;5;241m=\u001b[39m \u001b[43mdereference_statements\u001b[49m\u001b[43m(\u001b[49m\u001b[43mstatements\u001b[49m\u001b[43m,\u001b[49m\u001b[43m \u001b[49m\u001b[43mproposition_lookup\u001b[49m\u001b[43m,\u001b[49m\u001b[43m \u001b[49m\u001b[43mstrength_lookup\u001b[49m\u001b[43m,\u001b[49m\u001b[43m \u001b[49m\u001b[43mindication_lookup\u001b[49m\u001b[43m,\u001b[49m\u001b[43m \u001b[49m\u001b[43mcontribution_lookup\u001b[49m\u001b[43m,\u001b[49m\u001b[43m \u001b[49m\u001b[43mdocument_lookup\u001b[49m\u001b[43m)\u001b[49m\n",
      "Cell \u001b[0;32mIn[194], line 7\u001b[0m, in \u001b[0;36mdereference_statements\u001b[0;34m(statements, proposition_lookup, strength_lookup, indication_lookup, contribution_lookup, document_lookup)\u001b[0m\n\u001b[1;32m      4\u001b[0m state \u001b[38;5;241m=\u001b[39m state\u001b[38;5;241m.\u001b[39mcopy()\n\u001b[1;32m      6\u001b[0m proposition_id \u001b[38;5;241m=\u001b[39m state\u001b[38;5;241m.\u001b[39mpop(\u001b[38;5;124m\"\u001b[39m\u001b[38;5;124mproposition_id\u001b[39m\u001b[38;5;124m\"\u001b[39m)\n\u001b[0;32m----> 7\u001b[0m state[\u001b[38;5;124m\"\u001b[39m\u001b[38;5;124mproposition\u001b[39m\u001b[38;5;124m\"\u001b[39m] \u001b[38;5;241m=\u001b[39m \u001b[43mproposition_lookup\u001b[49m\u001b[43m[\u001b[49m\u001b[43mproposition_id\u001b[49m\u001b[43m]\u001b[49m\n\u001b[1;32m      9\u001b[0m strength_id \u001b[38;5;241m=\u001b[39m state\u001b[38;5;241m.\u001b[39mpop(\u001b[38;5;124m\"\u001b[39m\u001b[38;5;124mstrength_id\u001b[39m\u001b[38;5;124m\"\u001b[39m)\n\u001b[1;32m     10\u001b[0m state[\u001b[38;5;124m\"\u001b[39m\u001b[38;5;124mstrength\u001b[39m\u001b[38;5;124m\"\u001b[39m] \u001b[38;5;241m=\u001b[39m strength_lookup[strength_id]\n",
      "\u001b[0;31mKeyError\u001b[0m: 48"
     ]
    }
   ],
   "source": [
    "deference_statements1 = dereference_statements(statements, proposition_lookup, strength_lookup, indication_lookup, contribution_lookup, document_lookup)"
   ]
  },
  {
   "cell_type": "code",
   "execution_count": null,
   "id": "5aedaab5-8918-40e8-8deb-c85835b497a8",
   "metadata": {},
   "outputs": [],
   "source": []
  },
  {
   "cell_type": "code",
   "execution_count": null,
   "id": "f57b6962-a4e5-405a-adb0-26070a94c80f",
   "metadata": {},
   "outputs": [],
   "source": []
  }
 ],
 "metadata": {
  "kernelspec": {
   "display_name": "moalmanac-db",
   "language": "python",
   "name": "moalmanac-db"
  },
  "language_info": {
   "codemirror_mode": {
    "name": "ipython",
    "version": 3
   },
   "file_extension": ".py",
   "mimetype": "text/x-python",
   "name": "python",
   "nbconvert_exporter": "python",
   "pygments_lexer": "ipython3",
   "version": "3.9.6"
  }
 },
 "nbformat": 4,
 "nbformat_minor": 5
}
